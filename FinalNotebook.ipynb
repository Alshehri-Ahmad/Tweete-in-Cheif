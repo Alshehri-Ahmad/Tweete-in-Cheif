{
 "cells": [
  {
   "cell_type": "markdown",
   "metadata": {},
   "source": [
    "# Step I:  EDA"
   ]
  },
  {
   "cell_type": "code",
   "execution_count": 158,
   "metadata": {},
   "outputs": [],
   "source": [
    "import numpy as np\n",
    "import pandas as pd\n",
    "import matplotlib.pyplot as plt\n",
    "import seaborn as sns\n",
    "%matplotlib inline"
   ]
  },
  {
   "cell_type": "code",
   "execution_count": 159,
   "metadata": {},
   "outputs": [],
   "source": [
    "# Set up the chosen style format\n",
    "plt.style.use('fivethirtyeight')\n",
    "%matplotlib inline\n",
    "\n",
    "# Increase default figure and font sizes for easier viewing.\n",
    "plt.rcParams['figure.figsize'] = (12, 8)\n",
    "plt.rcParams['font.size'] = 14\n",
    "sns.set_context('notebook')\n"
   ]
  },
  {
   "cell_type": "code",
   "execution_count": 160,
   "metadata": {},
   "outputs": [
    {
     "data": {
      "text/html": [
       "<div>\n",
       "<style scoped>\n",
       "    .dataframe tbody tr th:only-of-type {\n",
       "        vertical-align: middle;\n",
       "    }\n",
       "\n",
       "    .dataframe tbody tr th {\n",
       "        vertical-align: top;\n",
       "    }\n",
       "\n",
       "    .dataframe thead th {\n",
       "        text-align: right;\n",
       "    }\n",
       "</style>\n",
       "<table border=\"1\" class=\"dataframe\">\n",
       "  <thead>\n",
       "    <tr style=\"text-align: right;\">\n",
       "      <th></th>\n",
       "      <th>text</th>\n",
       "      <th>retweets</th>\n",
       "      <th>favorite</th>\n",
       "      <th>is_retweet</th>\n",
       "      <th>id</th>\n",
       "    </tr>\n",
       "    <tr>\n",
       "      <th>time</th>\n",
       "      <th></th>\n",
       "      <th></th>\n",
       "      <th></th>\n",
       "      <th></th>\n",
       "      <th></th>\n",
       "    </tr>\n",
       "  </thead>\n",
       "  <tbody>\n",
       "    <tr>\n",
       "      <th>2014-12-31 21:07:30</th>\n",
       "      <td>\"@BrettNeveraski: I see you @realDonaldTrump h...</td>\n",
       "      <td>53</td>\n",
       "      <td>166</td>\n",
       "      <td>False</td>\n",
       "      <td>550397860240707584</td>\n",
       "    </tr>\n",
       "    <tr>\n",
       "      <th>2014-12-31 21:15:21</th>\n",
       "      <td>To EVERYONE including all haters and losers HA...</td>\n",
       "      <td>1271</td>\n",
       "      <td>1209</td>\n",
       "      <td>False</td>\n",
       "      <td>550399835682390016</td>\n",
       "    </tr>\n",
       "    <tr>\n",
       "      <th>2014-12-31 23:56:23</th>\n",
       "      <td>\"@cpetelis: @realDonaldTrump If you run for Pr...</td>\n",
       "      <td>6</td>\n",
       "      <td>18</td>\n",
       "      <td>False</td>\n",
       "      <td>550440363090280448</td>\n",
       "    </tr>\n",
       "    <tr>\n",
       "      <th>2014-12-31 23:57:02</th>\n",
       "      <td>\"@djspookyshadow: Feeling a deep gratitude for...</td>\n",
       "      <td>9</td>\n",
       "      <td>31</td>\n",
       "      <td>False</td>\n",
       "      <td>550440523094577152</td>\n",
       "    </tr>\n",
       "    <tr>\n",
       "      <th>2014-12-31 23:57:25</th>\n",
       "      <td>\"@joelmch2os: @realDonaldTrump announce your p...</td>\n",
       "      <td>8</td>\n",
       "      <td>26</td>\n",
       "      <td>False</td>\n",
       "      <td>550440620792492032</td>\n",
       "    </tr>\n",
       "    <tr>\n",
       "      <th>...</th>\n",
       "      <td>...</td>\n",
       "      <td>...</td>\n",
       "      <td>...</td>\n",
       "      <td>...</td>\n",
       "      <td>...</td>\n",
       "    </tr>\n",
       "    <tr>\n",
       "      <th>2020-03-30 16:56:34</th>\n",
       "      <td>RT @DeptofDefense: LIVE: #USNSComfort arrives ...</td>\n",
       "      <td>9754</td>\n",
       "      <td>0</td>\n",
       "      <td>True</td>\n",
       "      <td>1244669862514917381</td>\n",
       "    </tr>\n",
       "    <tr>\n",
       "      <th>2020-03-30 17:05:33</th>\n",
       "      <td>https://t.co/nzWJ8ViwbZ</td>\n",
       "      <td>39114</td>\n",
       "      <td>173520</td>\n",
       "      <td>False</td>\n",
       "      <td>1244672122414338048</td>\n",
       "    </tr>\n",
       "    <tr>\n",
       "      <th>2020-03-30 17:11:59</th>\n",
       "      <td>On #NationalDoctorsDay we recognize the remark...</td>\n",
       "      <td>19753</td>\n",
       "      <td>82569</td>\n",
       "      <td>False</td>\n",
       "      <td>1244673740866191362</td>\n",
       "    </tr>\n",
       "    <tr>\n",
       "      <th>2020-03-30 17:46:15</th>\n",
       "      <td>https://t.co/2hKJkP5Z6N</td>\n",
       "      <td>15520</td>\n",
       "      <td>67559</td>\n",
       "      <td>False</td>\n",
       "      <td>1244682364284014594</td>\n",
       "    </tr>\n",
       "    <tr>\n",
       "      <th>2020-03-30 20:50:35</th>\n",
       "      <td>White House news conference at 5:00 P.M. Easte...</td>\n",
       "      <td>14441</td>\n",
       "      <td>107888</td>\n",
       "      <td>False</td>\n",
       "      <td>1244728753617620994</td>\n",
       "    </tr>\n",
       "  </tbody>\n",
       "</table>\n",
       "<p>28506 rows × 5 columns</p>\n",
       "</div>"
      ],
      "text/plain": [
       "                                                                  text  \\\n",
       "time                                                                     \n",
       "2014-12-31 21:07:30  \"@BrettNeveraski: I see you @realDonaldTrump h...   \n",
       "2014-12-31 21:15:21  To EVERYONE including all haters and losers HA...   \n",
       "2014-12-31 23:56:23  \"@cpetelis: @realDonaldTrump If you run for Pr...   \n",
       "2014-12-31 23:57:02  \"@djspookyshadow: Feeling a deep gratitude for...   \n",
       "2014-12-31 23:57:25  \"@joelmch2os: @realDonaldTrump announce your p...   \n",
       "...                                                                ...   \n",
       "2020-03-30 16:56:34  RT @DeptofDefense: LIVE: #USNSComfort arrives ...   \n",
       "2020-03-30 17:05:33                            https://t.co/nzWJ8ViwbZ   \n",
       "2020-03-30 17:11:59  On #NationalDoctorsDay we recognize the remark...   \n",
       "2020-03-30 17:46:15                            https://t.co/2hKJkP5Z6N   \n",
       "2020-03-30 20:50:35  White House news conference at 5:00 P.M. Easte...   \n",
       "\n",
       "                     retweets  favorite  is_retweet                   id  \n",
       "time                                                                      \n",
       "2014-12-31 21:07:30        53       166       False   550397860240707584  \n",
       "2014-12-31 21:15:21      1271      1209       False   550399835682390016  \n",
       "2014-12-31 23:56:23         6        18       False   550440363090280448  \n",
       "2014-12-31 23:57:02         9        31       False   550440523094577152  \n",
       "2014-12-31 23:57:25         8        26       False   550440620792492032  \n",
       "...                       ...       ...         ...                  ...  \n",
       "2020-03-30 16:56:34      9754         0        True  1244669862514917381  \n",
       "2020-03-30 17:05:33     39114    173520       False  1244672122414338048  \n",
       "2020-03-30 17:11:59     19753     82569       False  1244673740866191362  \n",
       "2020-03-30 17:46:15     15520     67559       False  1244682364284014594  \n",
       "2020-03-30 20:50:35     14441    107888       False  1244728753617620994  \n",
       "\n",
       "[28506 rows x 5 columns]"
      ]
     },
     "execution_count": 160,
     "metadata": {},
     "output_type": "execute_result"
    }
   ],
   "source": [
    "data = pd.read_csv('TheRealDonald.csv')\n",
    "data.set_index('time');"
   ]
  },
  {
   "cell_type": "code",
   "execution_count": 161,
   "metadata": {},
   "outputs": [
    {
     "data": {
      "text/plain": [
       "(28506, 6)"
      ]
     },
     "execution_count": 161,
     "metadata": {},
     "output_type": "execute_result"
    }
   ],
   "source": [
    "data.shape"
   ]
  },
  {
   "cell_type": "code",
   "execution_count": 162,
   "metadata": {},
   "outputs": [
    {
     "name": "stdout",
     "output_type": "stream",
     "text": [
      "<class 'pandas.core.frame.DataFrame'>\n",
      "RangeIndex: 28506 entries, 0 to 28505\n",
      "Data columns (total 6 columns):\n",
      " #   Column      Non-Null Count  Dtype \n",
      "---  ------      --------------  ----- \n",
      " 0   time        28506 non-null  object\n",
      " 1   text        28506 non-null  object\n",
      " 2   retweets    28506 non-null  int64 \n",
      " 3   favorite    28506 non-null  int64 \n",
      " 4   is_retweet  28506 non-null  bool  \n",
      " 5   id          28506 non-null  int64 \n",
      "dtypes: bool(1), int64(3), object(2)\n",
      "memory usage: 1.1+ MB\n"
     ]
    }
   ],
   "source": [
    "data.info()"
   ]
  },
  {
   "cell_type": "code",
   "execution_count": 163,
   "metadata": {},
   "outputs": [
    {
     "data": {
      "text/html": [
       "<div>\n",
       "<style scoped>\n",
       "    .dataframe tbody tr th:only-of-type {\n",
       "        vertical-align: middle;\n",
       "    }\n",
       "\n",
       "    .dataframe tbody tr th {\n",
       "        vertical-align: top;\n",
       "    }\n",
       "\n",
       "    .dataframe thead th {\n",
       "        text-align: right;\n",
       "    }\n",
       "</style>\n",
       "<table border=\"1\" class=\"dataframe\">\n",
       "  <thead>\n",
       "    <tr style=\"text-align: right;\">\n",
       "      <th></th>\n",
       "      <th>retweets</th>\n",
       "      <th>favorite</th>\n",
       "      <th>id</th>\n",
       "    </tr>\n",
       "  </thead>\n",
       "  <tbody>\n",
       "    <tr>\n",
       "      <th>count</th>\n",
       "      <td>28506.000000</td>\n",
       "      <td>28506.000000</td>\n",
       "      <td>2.850600e+04</td>\n",
       "    </tr>\n",
       "    <tr>\n",
       "      <th>mean</th>\n",
       "      <td>11652.232688</td>\n",
       "      <td>38319.143689</td>\n",
       "      <td>9.179333e+17</td>\n",
       "    </tr>\n",
       "    <tr>\n",
       "      <th>std</th>\n",
       "      <td>12752.395254</td>\n",
       "      <td>52143.521487</td>\n",
       "      <td>2.399388e+17</td>\n",
       "    </tr>\n",
       "    <tr>\n",
       "      <th>min</th>\n",
       "      <td>0.000000</td>\n",
       "      <td>0.000000</td>\n",
       "      <td>5.503979e+17</td>\n",
       "    </tr>\n",
       "    <tr>\n",
       "      <th>25%</th>\n",
       "      <td>1518.250000</td>\n",
       "      <td>36.000000</td>\n",
       "      <td>6.740693e+17</td>\n",
       "    </tr>\n",
       "    <tr>\n",
       "      <th>50%</th>\n",
       "      <td>9107.000000</td>\n",
       "      <td>9352.500000</td>\n",
       "      <td>9.409173e+17</td>\n",
       "    </tr>\n",
       "    <tr>\n",
       "      <th>75%</th>\n",
       "      <td>17761.000000</td>\n",
       "      <td>70292.000000</td>\n",
       "      <td>1.161268e+18</td>\n",
       "    </tr>\n",
       "    <tr>\n",
       "      <th>max</th>\n",
       "      <td>369530.000000</td>\n",
       "      <td>879647.000000</td>\n",
       "      <td>1.244729e+18</td>\n",
       "    </tr>\n",
       "  </tbody>\n",
       "</table>\n",
       "</div>"
      ],
      "text/plain": [
       "            retweets       favorite            id\n",
       "count   28506.000000   28506.000000  2.850600e+04\n",
       "mean    11652.232688   38319.143689  9.179333e+17\n",
       "std     12752.395254   52143.521487  2.399388e+17\n",
       "min         0.000000       0.000000  5.503979e+17\n",
       "25%      1518.250000      36.000000  6.740693e+17\n",
       "50%      9107.000000    9352.500000  9.409173e+17\n",
       "75%     17761.000000   70292.000000  1.161268e+18\n",
       "max    369530.000000  879647.000000  1.244729e+18"
      ]
     },
     "execution_count": 163,
     "metadata": {},
     "output_type": "execute_result"
    }
   ],
   "source": [
    "data.describe()"
   ]
  },
  {
   "cell_type": "code",
   "execution_count": 164,
   "metadata": {},
   "outputs": [
    {
     "data": {
      "text/plain": [
       "time          datetime64[ns]\n",
       "text                  object\n",
       "retweets               int64\n",
       "favorite               int64\n",
       "is_retweet              bool\n",
       "id                     int64\n",
       "dtype: object"
      ]
     },
     "execution_count": 164,
     "metadata": {},
     "output_type": "execute_result"
    }
   ],
   "source": [
    "# changing time from object to datetime \n",
    "data['time'] = pd.to_datetime(data.time)\n",
    "data.dtypes"
   ]
  },
  {
   "cell_type": "code",
   "execution_count": 165,
   "metadata": {},
   "outputs": [
    {
     "name": "stdout",
     "output_type": "stream",
     "text": [
      "2014-12-31 21:07:30\n",
      "2020-03-30 20:50:35\n"
     ]
    }
   ],
   "source": [
    "print(data.time.min())\n",
    "print(data.time.max())"
   ]
  },
  {
   "cell_type": "code",
   "execution_count": 166,
   "metadata": {},
   "outputs": [],
   "source": [
    "# Extract just the date information from the timestamp\n",
    "data['just_date'] = [x.date() for x in data['time']]\n",
    "# Extract the year which ranges from 2014 to 2020 in this dataset\n",
    "data['year'] = pd.DatetimeIndex(data['time']).year\n",
    "# Extract the month of the year (1-12)\n",
    "data['month'] = pd.DatetimeIndex(data['time']).month\n",
    "# Extract the day of the month (1-31)\n",
    "#data['day'] = pd.DatetimeIndex(data['time']).day\n",
    "data[['year','month','day']] = \\\n",
    "pd.DataFrame([(x.year, x.month, x.day) for x in data['time']])\n",
    "# The day of the week with Monday=0, Tuesday=1, Wednesday=2, Thursday=3,\n",
    "# Friday=4, Saturday=5, Sunday=6\n",
    "data['day_of_week'] = data['time'].dt.dayofweek\n",
    "# Weekday or weekend boolean:\n",
    "# 1 if weekday (Mon-Fri in U.S), 0 if weekend (Sat-Sun in U.S)\n",
    "data['weekday'] = np.where(data['day_of_week'] >= 5, 0, 1)\n",
    "# Extract just the time information from the timestamp\n",
    "data['just_time'] = [x.time() for x in data['time']]\n",
    "# Break the time down into hour, minute, second\n",
    "data['hour'] = pd.DataFrame([(x.hour) for x in data['time']])\n",
    "\n",
    "data['hour']=pd.to_numeric(data.hour)"
   ]
  },
  {
   "cell_type": "code",
   "execution_count": 167,
   "metadata": {},
   "outputs": [
    {
     "data": {
      "text/html": [
       "<div>\n",
       "<style scoped>\n",
       "    .dataframe tbody tr th:only-of-type {\n",
       "        vertical-align: middle;\n",
       "    }\n",
       "\n",
       "    .dataframe tbody tr th {\n",
       "        vertical-align: top;\n",
       "    }\n",
       "\n",
       "    .dataframe thead th {\n",
       "        text-align: right;\n",
       "    }\n",
       "</style>\n",
       "<table border=\"1\" class=\"dataframe\">\n",
       "  <thead>\n",
       "    <tr style=\"text-align: right;\">\n",
       "      <th></th>\n",
       "      <th>time</th>\n",
       "      <th>text</th>\n",
       "      <th>retweets</th>\n",
       "      <th>favorite</th>\n",
       "      <th>is_retweet</th>\n",
       "      <th>id</th>\n",
       "      <th>just_date</th>\n",
       "      <th>year</th>\n",
       "      <th>month</th>\n",
       "      <th>day</th>\n",
       "      <th>day_of_week</th>\n",
       "      <th>weekday</th>\n",
       "      <th>just_time</th>\n",
       "      <th>hour</th>\n",
       "    </tr>\n",
       "  </thead>\n",
       "  <tbody>\n",
       "    <tr>\n",
       "      <th>0</th>\n",
       "      <td>2014-12-31 21:07:30</td>\n",
       "      <td>\"@BrettNeveraski: I see you @realDonaldTrump h...</td>\n",
       "      <td>53</td>\n",
       "      <td>166</td>\n",
       "      <td>False</td>\n",
       "      <td>550397860240707584</td>\n",
       "      <td>2014-12-31</td>\n",
       "      <td>2014</td>\n",
       "      <td>12</td>\n",
       "      <td>31</td>\n",
       "      <td>2</td>\n",
       "      <td>1</td>\n",
       "      <td>21:07:30</td>\n",
       "      <td>21</td>\n",
       "    </tr>\n",
       "    <tr>\n",
       "      <th>1</th>\n",
       "      <td>2014-12-31 21:15:21</td>\n",
       "      <td>To EVERYONE including all haters and losers HA...</td>\n",
       "      <td>1271</td>\n",
       "      <td>1209</td>\n",
       "      <td>False</td>\n",
       "      <td>550399835682390016</td>\n",
       "      <td>2014-12-31</td>\n",
       "      <td>2014</td>\n",
       "      <td>12</td>\n",
       "      <td>31</td>\n",
       "      <td>2</td>\n",
       "      <td>1</td>\n",
       "      <td>21:15:21</td>\n",
       "      <td>21</td>\n",
       "    </tr>\n",
       "    <tr>\n",
       "      <th>2</th>\n",
       "      <td>2014-12-31 23:56:23</td>\n",
       "      <td>\"@cpetelis: @realDonaldTrump If you run for Pr...</td>\n",
       "      <td>6</td>\n",
       "      <td>18</td>\n",
       "      <td>False</td>\n",
       "      <td>550440363090280448</td>\n",
       "      <td>2014-12-31</td>\n",
       "      <td>2014</td>\n",
       "      <td>12</td>\n",
       "      <td>31</td>\n",
       "      <td>2</td>\n",
       "      <td>1</td>\n",
       "      <td>23:56:23</td>\n",
       "      <td>23</td>\n",
       "    </tr>\n",
       "    <tr>\n",
       "      <th>3</th>\n",
       "      <td>2014-12-31 23:57:02</td>\n",
       "      <td>\"@djspookyshadow: Feeling a deep gratitude for...</td>\n",
       "      <td>9</td>\n",
       "      <td>31</td>\n",
       "      <td>False</td>\n",
       "      <td>550440523094577152</td>\n",
       "      <td>2014-12-31</td>\n",
       "      <td>2014</td>\n",
       "      <td>12</td>\n",
       "      <td>31</td>\n",
       "      <td>2</td>\n",
       "      <td>1</td>\n",
       "      <td>23:57:02</td>\n",
       "      <td>23</td>\n",
       "    </tr>\n",
       "    <tr>\n",
       "      <th>4</th>\n",
       "      <td>2014-12-31 23:57:25</td>\n",
       "      <td>\"@joelmch2os: @realDonaldTrump announce your p...</td>\n",
       "      <td>8</td>\n",
       "      <td>26</td>\n",
       "      <td>False</td>\n",
       "      <td>550440620792492032</td>\n",
       "      <td>2014-12-31</td>\n",
       "      <td>2014</td>\n",
       "      <td>12</td>\n",
       "      <td>31</td>\n",
       "      <td>2</td>\n",
       "      <td>1</td>\n",
       "      <td>23:57:25</td>\n",
       "      <td>23</td>\n",
       "    </tr>\n",
       "  </tbody>\n",
       "</table>\n",
       "</div>"
      ],
      "text/plain": [
       "                 time                                               text  \\\n",
       "0 2014-12-31 21:07:30  \"@BrettNeveraski: I see you @realDonaldTrump h...   \n",
       "1 2014-12-31 21:15:21  To EVERYONE including all haters and losers HA...   \n",
       "2 2014-12-31 23:56:23  \"@cpetelis: @realDonaldTrump If you run for Pr...   \n",
       "3 2014-12-31 23:57:02  \"@djspookyshadow: Feeling a deep gratitude for...   \n",
       "4 2014-12-31 23:57:25  \"@joelmch2os: @realDonaldTrump announce your p...   \n",
       "\n",
       "   retweets  favorite  is_retweet                  id   just_date  year  \\\n",
       "0        53       166       False  550397860240707584  2014-12-31  2014   \n",
       "1      1271      1209       False  550399835682390016  2014-12-31  2014   \n",
       "2         6        18       False  550440363090280448  2014-12-31  2014   \n",
       "3         9        31       False  550440523094577152  2014-12-31  2014   \n",
       "4         8        26       False  550440620792492032  2014-12-31  2014   \n",
       "\n",
       "   month  day  day_of_week  weekday just_time  hour  \n",
       "0     12   31            2        1  21:07:30    21  \n",
       "1     12   31            2        1  21:15:21    21  \n",
       "2     12   31            2        1  23:56:23    23  \n",
       "3     12   31            2        1  23:57:02    23  \n",
       "4     12   31            2        1  23:57:25    23  "
      ]
     },
     "execution_count": 167,
     "metadata": {},
     "output_type": "execute_result"
    }
   ],
   "source": [
    "data.head();"
   ]
  },
  {
   "cell_type": "code",
   "execution_count": 168,
   "metadata": {},
   "outputs": [],
   "source": [
    "data.drop(data[data['year'] == 2014].index, inplace = True)"
   ]
  },
  {
   "cell_type": "code",
   "execution_count": 169,
   "metadata": {},
   "outputs": [
    {
     "name": "stdout",
     "output_type": "stream",
     "text": [
      "<class 'pandas.core.frame.DataFrame'>\n",
      "Int64Index: 28498 entries, 8 to 28505\n",
      "Data columns (total 14 columns):\n",
      " #   Column       Non-Null Count  Dtype         \n",
      "---  ------       --------------  -----         \n",
      " 0   time         28498 non-null  datetime64[ns]\n",
      " 1   text         28498 non-null  object        \n",
      " 2   retweets     28498 non-null  int64         \n",
      " 3   favorite     28498 non-null  int64         \n",
      " 4   is_retweet   28498 non-null  bool          \n",
      " 5   id           28498 non-null  int64         \n",
      " 6   just_date    28498 non-null  object        \n",
      " 7   year         28498 non-null  int64         \n",
      " 8   month        28498 non-null  int64         \n",
      " 9   day          28498 non-null  int64         \n",
      " 10  day_of_week  28498 non-null  int64         \n",
      " 11  weekday      28498 non-null  int64         \n",
      " 12  just_time    28498 non-null  object        \n",
      " 13  hour         28498 non-null  int64         \n",
      "dtypes: bool(1), datetime64[ns](1), int64(9), object(3)\n",
      "memory usage: 3.1+ MB\n"
     ]
    }
   ],
   "source": [
    "data.info();"
   ]
  },
  {
   "cell_type": "code",
   "execution_count": 170,
   "metadata": {},
   "outputs": [],
   "source": [
    "# extract part of day\n",
    "\n",
    "def f(x):\n",
    "    if (x >= 0 ) and ( x < 6):\n",
    "        return 'Late_Night'\n",
    "    elif (x >= 6) and (x < 12 ):\n",
    "        return 'Morning'\n",
    "    elif (x >= 12) and (x < 18):\n",
    "        return'Noon'\n",
    "    elif (x >= 18) and (x <= 22) :\n",
    "        return 'Evening'\n",
    "    else:\n",
    "        return 'Late_Night'\n",
    "\n",
    "\n",
    "data['Part_of_Day'] = data['hour'].apply(f)\n",
    "\n"
   ]
  },
  {
   "cell_type": "code",
   "execution_count": 171,
   "metadata": {},
   "outputs": [
    {
     "data": {
      "text/html": [
       "<div>\n",
       "<style scoped>\n",
       "    .dataframe tbody tr th:only-of-type {\n",
       "        vertical-align: middle;\n",
       "    }\n",
       "\n",
       "    .dataframe tbody tr th {\n",
       "        vertical-align: top;\n",
       "    }\n",
       "\n",
       "    .dataframe thead th {\n",
       "        text-align: right;\n",
       "    }\n",
       "</style>\n",
       "<table border=\"1\" class=\"dataframe\">\n",
       "  <thead>\n",
       "    <tr style=\"text-align: right;\">\n",
       "      <th></th>\n",
       "      <th>time</th>\n",
       "      <th>text</th>\n",
       "      <th>retweets</th>\n",
       "      <th>favorite</th>\n",
       "      <th>is_retweet</th>\n",
       "      <th>id</th>\n",
       "      <th>just_date</th>\n",
       "      <th>year</th>\n",
       "      <th>month</th>\n",
       "      <th>day</th>\n",
       "      <th>day_of_week</th>\n",
       "      <th>weekday</th>\n",
       "      <th>just_time</th>\n",
       "      <th>hour</th>\n",
       "      <th>Part_of_Day</th>\n",
       "    </tr>\n",
       "  </thead>\n",
       "  <tbody>\n",
       "    <tr>\n",
       "      <th>8</th>\n",
       "      <td>2015-01-01 00:00:26</td>\n",
       "      <td>\"@JaayZen: @realDonaldTrump Thanks Donald. Now...</td>\n",
       "      <td>12</td>\n",
       "      <td>33</td>\n",
       "      <td>False</td>\n",
       "      <td>550441381253382144</td>\n",
       "      <td>2015-01-01</td>\n",
       "      <td>2015</td>\n",
       "      <td>1</td>\n",
       "      <td>1</td>\n",
       "      <td>3</td>\n",
       "      <td>1</td>\n",
       "      <td>00:00:26</td>\n",
       "      <td>0</td>\n",
       "      <td>Late_Night</td>\n",
       "    </tr>\n",
       "    <tr>\n",
       "      <th>9</th>\n",
       "      <td>2015-01-01 00:02:37</td>\n",
       "      <td>\"@teamconquerca: First time in the\"Trump Inter...</td>\n",
       "      <td>9</td>\n",
       "      <td>28</td>\n",
       "      <td>False</td>\n",
       "      <td>550441927964106753</td>\n",
       "      <td>2015-01-01</td>\n",
       "      <td>2015</td>\n",
       "      <td>1</td>\n",
       "      <td>1</td>\n",
       "      <td>3</td>\n",
       "      <td>1</td>\n",
       "      <td>00:02:37</td>\n",
       "      <td>0</td>\n",
       "      <td>Late_Night</td>\n",
       "    </tr>\n",
       "    <tr>\n",
       "      <th>10</th>\n",
       "      <td>2015-01-01 00:06:40</td>\n",
       "      <td>\"@AngelaTN777: @gochico @realDonaldTrump: He S...</td>\n",
       "      <td>15</td>\n",
       "      <td>36</td>\n",
       "      <td>False</td>\n",
       "      <td>550442948375347200</td>\n",
       "      <td>2015-01-01</td>\n",
       "      <td>2015</td>\n",
       "      <td>1</td>\n",
       "      <td>1</td>\n",
       "      <td>3</td>\n",
       "      <td>1</td>\n",
       "      <td>00:06:40</td>\n",
       "      <td>0</td>\n",
       "      <td>Late_Night</td>\n",
       "    </tr>\n",
       "    <tr>\n",
       "      <th>11</th>\n",
       "      <td>2015-01-01 00:09:01</td>\n",
       "      <td>\"@JaayZen: @grandmiapens He has all the ingred...</td>\n",
       "      <td>11</td>\n",
       "      <td>18</td>\n",
       "      <td>False</td>\n",
       "      <td>550443540111962113</td>\n",
       "      <td>2015-01-01</td>\n",
       "      <td>2015</td>\n",
       "      <td>1</td>\n",
       "      <td>1</td>\n",
       "      <td>3</td>\n",
       "      <td>1</td>\n",
       "      <td>00:09:01</td>\n",
       "      <td>0</td>\n",
       "      <td>Late_Night</td>\n",
       "    </tr>\n",
       "    <tr>\n",
       "      <th>12</th>\n",
       "      <td>2015-01-01 00:09:47</td>\n",
       "      <td>\"@MarcAardvark: @realDonaldTrump @ronmeier123 ...</td>\n",
       "      <td>7</td>\n",
       "      <td>17</td>\n",
       "      <td>False</td>\n",
       "      <td>550443735054839808</td>\n",
       "      <td>2015-01-01</td>\n",
       "      <td>2015</td>\n",
       "      <td>1</td>\n",
       "      <td>1</td>\n",
       "      <td>3</td>\n",
       "      <td>1</td>\n",
       "      <td>00:09:47</td>\n",
       "      <td>0</td>\n",
       "      <td>Late_Night</td>\n",
       "    </tr>\n",
       "  </tbody>\n",
       "</table>\n",
       "</div>"
      ],
      "text/plain": [
       "                  time                                               text  \\\n",
       "8  2015-01-01 00:00:26  \"@JaayZen: @realDonaldTrump Thanks Donald. Now...   \n",
       "9  2015-01-01 00:02:37  \"@teamconquerca: First time in the\"Trump Inter...   \n",
       "10 2015-01-01 00:06:40  \"@AngelaTN777: @gochico @realDonaldTrump: He S...   \n",
       "11 2015-01-01 00:09:01  \"@JaayZen: @grandmiapens He has all the ingred...   \n",
       "12 2015-01-01 00:09:47  \"@MarcAardvark: @realDonaldTrump @ronmeier123 ...   \n",
       "\n",
       "    retweets  favorite  is_retweet                  id   just_date  year  \\\n",
       "8         12        33       False  550441381253382144  2015-01-01  2015   \n",
       "9          9        28       False  550441927964106753  2015-01-01  2015   \n",
       "10        15        36       False  550442948375347200  2015-01-01  2015   \n",
       "11        11        18       False  550443540111962113  2015-01-01  2015   \n",
       "12         7        17       False  550443735054839808  2015-01-01  2015   \n",
       "\n",
       "    month  day  day_of_week  weekday just_time  hour Part_of_Day  \n",
       "8       1    1            3        1  00:00:26     0  Late_Night  \n",
       "9       1    1            3        1  00:02:37     0  Late_Night  \n",
       "10      1    1            3        1  00:06:40     0  Late_Night  \n",
       "11      1    1            3        1  00:09:01     0  Late_Night  \n",
       "12      1    1            3        1  00:09:47     0  Late_Night  "
      ]
     },
     "execution_count": 171,
     "metadata": {},
     "output_type": "execute_result"
    }
   ],
   "source": [
    "data.head();"
   ]
  },
  {
   "cell_type": "code",
   "execution_count": 172,
   "metadata": {},
   "outputs": [
    {
     "data": {
      "image/png": "[encoded data removed]",
      "text/plain": [
       "<Figure size 864x576 with 1 Axes>"
      ]
     },
     "metadata": {
      "needs_background": "light"
     },
     "output_type": "display_data"
    }
   ],
   "source": [
    "\n",
    "retweets = data.groupby(by ='is_retweet').count()[['text']].reset_index()\n",
    "retweets.plot(kind='bar', title=\" Tweets vs Retweets\",legend=False);\n",
    "plt.savefig(\"Tweets vs Retweets.png\")"
   ]
  },
  {
   "cell_type": "code",
   "execution_count": 173,
   "metadata": {},
   "outputs": [],
   "source": [
    "data= pd.concat([data,pd.get_dummies(data.Part_of_Day)],axis=1)\n",
    "#data = data.drop(['Part_of_Day'], axis=1)"
   ]
  },
  {
   "cell_type": "code",
   "execution_count": 174,
   "metadata": {},
   "outputs": [
    {
     "name": "stdout",
     "output_type": "stream",
     "text": [
      "<class 'pandas.core.frame.DataFrame'>\n",
      "Int64Index: 28498 entries, 8 to 28505\n",
      "Data columns (total 19 columns):\n",
      " #   Column       Non-Null Count  Dtype         \n",
      "---  ------       --------------  -----         \n",
      " 0   time         28498 non-null  datetime64[ns]\n",
      " 1   text         28498 non-null  object        \n",
      " 2   retweets     28498 non-null  int64         \n",
      " 3   favorite     28498 non-null  int64         \n",
      " 4   is_retweet   28498 non-null  bool          \n",
      " 5   id           28498 non-null  int64         \n",
      " 6   just_date    28498 non-null  object        \n",
      " 7   year         28498 non-null  int64         \n",
      " 8   month        28498 non-null  int64         \n",
      " 9   day          28498 non-null  int64         \n",
      " 10  day_of_week  28498 non-null  int64         \n",
      " 11  weekday      28498 non-null  int64         \n",
      " 12  just_time    28498 non-null  object        \n",
      " 13  hour         28498 non-null  int64         \n",
      " 14  Part_of_Day  28498 non-null  object        \n",
      " 15  Evening      28498 non-null  uint8         \n",
      " 16  Late_Night   28498 non-null  uint8         \n",
      " 17  Morning      28498 non-null  uint8         \n",
      " 18  Noon         28498 non-null  uint8         \n",
      "dtypes: bool(1), datetime64[ns](1), int64(9), object(4), uint8(4)\n",
      "memory usage: 3.4+ MB\n"
     ]
    }
   ],
   "source": [
    "data.info();"
   ]
  },
  {
   "cell_type": "code",
   "execution_count": 175,
   "metadata": {},
   "outputs": [
    {
     "data": {
      "image/png": "[encoded data removed]",
      "text/plain": [
       "<Figure size 864x576 with 2 Axes>"
      ]
     },
     "metadata": {
      "needs_background": "light"
     },
     "output_type": "display_data"
    }
   ],
   "source": [
    "sns.heatmap(data.corr(),cmap=\"GnBu\", annot=True,linewidth=2);"
   ]
  },
  {
   "cell_type": "code",
   "execution_count": 176,
   "metadata": {},
   "outputs": [
    {
     "data": {
      "image/png": "[encoded data removed]",
      "text/plain": [
       "<Figure size 864x576 with 1 Axes>"
      ]
     },
     "metadata": {
      "needs_background": "light"
     },
     "output_type": "display_data"
    }
   ],
   "source": [
    "g = data.groupby(by= 'year').sum()[[\"Morning\",\"Noon\", \"Evening\",\"Late_Night\"]]\n",
    "g.plot(kind=\"bar\",title= \"Trump Tweets count Based on Time of Day\");\n",
    "plt.savefig('Trump Tweets count Based on Time of Day.png')"
   ]
  },
  {
   "cell_type": "code",
   "execution_count": 177,
   "metadata": {
    "scrolled": true
   },
   "outputs": [
    {
     "data": {
      "image/png": "[encoded data removed]",
      "text/plain": [
       "<Figure size 864x576 with 1 Axes>"
      ]
     },
     "metadata": {
      "needs_background": "light"
     },
     "output_type": "display_data"
    }
   ],
   "source": [
    "fig, ax = plt.subplots()\n",
    "sns.lineplot(x=data.year, y=data.retweets, label='Retweet');\n",
    "sns.lineplot(x=data.year, y=data.favorite, label='Like',).set_title(\"Trump Likes & Retweets Overtime\");\n",
    "ax.legend()\n",
    "plt.savefig('Trump Likes & Retweets Overtime.png')"
   ]
  },
  {
   "cell_type": "code",
   "execution_count": 178,
   "metadata": {},
   "outputs": [],
   "source": [
    "# retweet = pd.concat([data.is_retweet.value_counts(),\n",
    "#                      data.is_retweet.value_counts(normalize=True).mul(100)], axis=1)\n",
    "# retweet.columns = ['count', 'percentage']\n",
    "# retweet"
   ]
  },
  {
   "cell_type": "code",
   "execution_count": 179,
   "metadata": {},
   "outputs": [],
   "source": [
    "# Word Cloud\n",
    "\n",
    "# from wordcloud import WordCloud, STOPWORDS\n",
    "\n",
    "\n",
    "# text = clean_tweets\n",
    "# wordcloud = WordCloud(\n",
    "#     width = 3000,\n",
    "#     height = 2000,\n",
    "#     background_color = 'white').generate(str(text))\n",
    "# fig = plt.figure(\n",
    "#     figsize = (20, 15),\n",
    "#     facecolor = 'k',\n",
    "#     edgecolor = 'k')\n",
    "# plt.imshow(wordcloud, interpolation = 'bilinear')\n",
    "# plt.axis('off')\n",
    "# plt.tight_layout(pad=0)\n",
    "# plt.show()\n",
    "# #wordcloud.to_file('Donald Trump Tweets.png')"
   ]
  },
  {
   "cell_type": "code",
   "execution_count": 181,
   "metadata": {},
   "outputs": [],
   "source": [
    "data = data.drop(['day_of_week','just_date','just_time','day','month','Morning', 'Noon',\"Evening\", 'Late_Night'], axis=1)\n"
   ]
  },
  {
   "cell_type": "markdown",
   "metadata": {},
   "source": [
    "# Step II: NLP"
   ]
  },
  {
   "cell_type": "markdown",
   "metadata": {},
   "source": [
    "In this step, I will apply varius natural language methods on the text column in order to extract text features and be able to use the results in the later stages. Below, I applied Tokenization, stemming, and  Lemmatization. After that I used  TFIDF - term frequency–inverse document frequency, which is a numerical statistic that is intended to reflect how important a word is to a document in a collection. I choose this instead of basic count vectorised because it is often used as a weighting factor in searches of information retrieval."
   ]
  },
  {
   "cell_type": "code",
   "execution_count": 182,
   "metadata": {},
   "outputs": [],
   "source": [
    "import nltk \n",
    "import string\n",
    "import re"
   ]
  },
  {
   "cell_type": "code",
   "execution_count": 183,
   "metadata": {},
   "outputs": [],
   "source": [
    "def remove_punct(text):\n",
    "    text  = \"\".join([char for char in text if char not in string.punctuation])\n",
    "    text = re.sub('[0-9]+', '', text)\n",
    "    return text\n",
    "\n",
    "data['text_punct'] = data['text'].apply(lambda x: remove_punct(x))\n",
    "#data.head(10)"
   ]
  },
  {
   "cell_type": "code",
   "execution_count": 184,
   "metadata": {},
   "outputs": [],
   "source": [
    "def tokenization(text):\n",
    "    text = re.split('\\W+', text)\n",
    "    return text\n",
    "\n",
    "data['text_tokenized'] = data['text_punct'].apply(lambda x: tokenization(x.lower()))\n",
    "#data.head(10)"
   ]
  },
  {
   "cell_type": "code",
   "execution_count": 185,
   "metadata": {},
   "outputs": [],
   "source": [
    "stopword = nltk.corpus.stopwords.words('english')\n",
    "def remove_stopwords(text):\n",
    "    text = [word for word in text if word not in stopword]\n",
    "    return text\n",
    "    \n",
    "data['text_nonstop'] = data['text_tokenized'].apply(lambda x: remove_stopwords(x))\n",
    "#data.head(10)"
   ]
  },
  {
   "cell_type": "code",
   "execution_count": 186,
   "metadata": {},
   "outputs": [],
   "source": [
    "ps = nltk.PorterStemmer()\n",
    "\n",
    "def stemming(text):\n",
    "    text = [ps.stem(word) for word in text]\n",
    "    return text\n",
    "\n",
    "data['text_stemmed'] = data['text_nonstop'].apply(lambda x: stemming(x))\n",
    "#data.head()"
   ]
  },
  {
   "cell_type": "code",
   "execution_count": 187,
   "metadata": {},
   "outputs": [],
   "source": [
    "wn = nltk.WordNetLemmatizer()\n",
    "\n",
    "def lemmatizer(text):\n",
    "    text = [wn.lemmatize(word) for word in text]\n",
    "    return text\n",
    "\n",
    "data['text_lemmatized'] = data['text_nonstop'].apply(lambda x: lemmatizer(x))\n",
    "#data.head()"
   ]
  },
  {
   "cell_type": "code",
   "execution_count": 188,
   "metadata": {},
   "outputs": [],
   "source": [
    "def clean_text(text):\n",
    "    text_lc = \"\".join([word.lower() for word in text if word not in string.punctuation]) # remove puntuation\n",
    "    text_rc = re.sub('[0-9]+', '', text_lc)\n",
    "    tokens = re.split('\\W+', text_rc)    # tokenization\n",
    "    text = [ps.stem(word) for word in tokens if word not in stopword]  # remove stopwords and stemming\n",
    "    return text"
   ]
  },
  {
   "cell_type": "code",
   "execution_count": 189,
   "metadata": {},
   "outputs": [
    {
     "name": "stdout",
     "output_type": "stream",
     "text": [
      "28498 Number of tweets has 2000 words\n"
     ]
    }
   ],
   "source": [
    "from sklearn.feature_extraction.text import TfidfVectorizer\n",
    "\n",
    "tfidf = TfidfVectorizer(analyzer=clean_text, max_features=2000) \n",
    "tvec = tfidf.fit_transform(data['text'])\n",
    "print('{} Number of tweets has {} words'.format(tvec.shape[0], tvec.shape[1]))\n"
   ]
  },
  {
   "cell_type": "code",
   "execution_count": 190,
   "metadata": {},
   "outputs": [],
   "source": [
    "#print(tfidf.get_feature_names())"
   ]
  },
  {
   "cell_type": "code",
   "execution_count": 191,
   "metadata": {},
   "outputs": [],
   "source": [
    "#print(tfidf.vocabulary_)"
   ]
  },
  {
   "cell_type": "code",
   "execution_count": 192,
   "metadata": {},
   "outputs": [
    {
     "data": {
      "text/html": [
       "<div>\n",
       "<style scoped>\n",
       "    .dataframe tbody tr th:only-of-type {\n",
       "        vertical-align: middle;\n",
       "    }\n",
       "\n",
       "    .dataframe tbody tr th {\n",
       "        vertical-align: top;\n",
       "    }\n",
       "\n",
       "    .dataframe thead th {\n",
       "        text-align: right;\n",
       "    }\n",
       "</style>\n",
       "<table border=\"1\" class=\"dataframe\">\n",
       "  <thead>\n",
       "    <tr style=\"text-align: right;\">\n",
       "      <th></th>\n",
       "      <th></th>\n",
       "      <th>abc</th>\n",
       "      <th>abe</th>\n",
       "      <th>abeshinzo</th>\n",
       "      <th>abl</th>\n",
       "      <th>absolut</th>\n",
       "      <th>abus</th>\n",
       "      <th>accept</th>\n",
       "      <th>access</th>\n",
       "      <th>accomplish</th>\n",
       "      <th>...</th>\n",
       "      <th>yet</th>\n",
       "      <th>york</th>\n",
       "      <th>young</th>\n",
       "      <th>your</th>\n",
       "      <th>youv</th>\n",
       "      <th>yr</th>\n",
       "      <th>zelenski</th>\n",
       "      <th>zero</th>\n",
       "      <th>zone</th>\n",
       "      <th>क</th>\n",
       "    </tr>\n",
       "  </thead>\n",
       "  <tbody>\n",
       "    <tr>\n",
       "      <th>0</th>\n",
       "      <td>0.0</td>\n",
       "      <td>0.0</td>\n",
       "      <td>0.0</td>\n",
       "      <td>0.0</td>\n",
       "      <td>0.0</td>\n",
       "      <td>0.000000</td>\n",
       "      <td>0.0</td>\n",
       "      <td>0.0</td>\n",
       "      <td>0.0</td>\n",
       "      <td>0.0</td>\n",
       "      <td>...</td>\n",
       "      <td>0.0</td>\n",
       "      <td>0.0</td>\n",
       "      <td>0.0</td>\n",
       "      <td>0.0</td>\n",
       "      <td>0.0</td>\n",
       "      <td>0.0</td>\n",
       "      <td>0.0</td>\n",
       "      <td>0.0</td>\n",
       "      <td>0.0</td>\n",
       "      <td>0.0</td>\n",
       "    </tr>\n",
       "    <tr>\n",
       "      <th>1</th>\n",
       "      <td>0.0</td>\n",
       "      <td>0.0</td>\n",
       "      <td>0.0</td>\n",
       "      <td>0.0</td>\n",
       "      <td>0.0</td>\n",
       "      <td>0.314395</td>\n",
       "      <td>0.0</td>\n",
       "      <td>0.0</td>\n",
       "      <td>0.0</td>\n",
       "      <td>0.0</td>\n",
       "      <td>...</td>\n",
       "      <td>0.0</td>\n",
       "      <td>0.0</td>\n",
       "      <td>0.0</td>\n",
       "      <td>0.0</td>\n",
       "      <td>0.0</td>\n",
       "      <td>0.0</td>\n",
       "      <td>0.0</td>\n",
       "      <td>0.0</td>\n",
       "      <td>0.0</td>\n",
       "      <td>0.0</td>\n",
       "    </tr>\n",
       "    <tr>\n",
       "      <th>2</th>\n",
       "      <td>0.0</td>\n",
       "      <td>0.0</td>\n",
       "      <td>0.0</td>\n",
       "      <td>0.0</td>\n",
       "      <td>0.0</td>\n",
       "      <td>0.000000</td>\n",
       "      <td>0.0</td>\n",
       "      <td>0.0</td>\n",
       "      <td>0.0</td>\n",
       "      <td>0.0</td>\n",
       "      <td>...</td>\n",
       "      <td>0.0</td>\n",
       "      <td>0.0</td>\n",
       "      <td>0.0</td>\n",
       "      <td>0.0</td>\n",
       "      <td>0.0</td>\n",
       "      <td>0.0</td>\n",
       "      <td>0.0</td>\n",
       "      <td>0.0</td>\n",
       "      <td>0.0</td>\n",
       "      <td>0.0</td>\n",
       "    </tr>\n",
       "    <tr>\n",
       "      <th>3</th>\n",
       "      <td>0.0</td>\n",
       "      <td>0.0</td>\n",
       "      <td>0.0</td>\n",
       "      <td>0.0</td>\n",
       "      <td>0.0</td>\n",
       "      <td>0.000000</td>\n",
       "      <td>0.0</td>\n",
       "      <td>0.0</td>\n",
       "      <td>0.0</td>\n",
       "      <td>0.0</td>\n",
       "      <td>...</td>\n",
       "      <td>0.0</td>\n",
       "      <td>0.0</td>\n",
       "      <td>0.0</td>\n",
       "      <td>0.0</td>\n",
       "      <td>0.0</td>\n",
       "      <td>0.0</td>\n",
       "      <td>0.0</td>\n",
       "      <td>0.0</td>\n",
       "      <td>0.0</td>\n",
       "      <td>0.0</td>\n",
       "    </tr>\n",
       "    <tr>\n",
       "      <th>4</th>\n",
       "      <td>0.0</td>\n",
       "      <td>0.0</td>\n",
       "      <td>0.0</td>\n",
       "      <td>0.0</td>\n",
       "      <td>0.0</td>\n",
       "      <td>0.000000</td>\n",
       "      <td>0.0</td>\n",
       "      <td>0.0</td>\n",
       "      <td>0.0</td>\n",
       "      <td>0.0</td>\n",
       "      <td>...</td>\n",
       "      <td>0.0</td>\n",
       "      <td>0.0</td>\n",
       "      <td>0.0</td>\n",
       "      <td>0.0</td>\n",
       "      <td>0.0</td>\n",
       "      <td>0.0</td>\n",
       "      <td>0.0</td>\n",
       "      <td>0.0</td>\n",
       "      <td>0.0</td>\n",
       "      <td>0.0</td>\n",
       "    </tr>\n",
       "  </tbody>\n",
       "</table>\n",
       "<p>5 rows × 2000 columns</p>\n",
       "</div>"
      ],
      "text/plain": [
       "        abc  abe  abeshinzo  abl   absolut  abus  accept  access  accomplish  \\\n",
       "0  0.0  0.0  0.0        0.0  0.0  0.000000   0.0     0.0     0.0         0.0   \n",
       "1  0.0  0.0  0.0        0.0  0.0  0.314395   0.0     0.0     0.0         0.0   \n",
       "2  0.0  0.0  0.0        0.0  0.0  0.000000   0.0     0.0     0.0         0.0   \n",
       "3  0.0  0.0  0.0        0.0  0.0  0.000000   0.0     0.0     0.0         0.0   \n",
       "4  0.0  0.0  0.0        0.0  0.0  0.000000   0.0     0.0     0.0         0.0   \n",
       "\n",
       "   ...  yet  york  young  your  youv   yr  zelenski  zero  zone    क  \n",
       "0  ...  0.0   0.0    0.0   0.0   0.0  0.0       0.0   0.0   0.0  0.0  \n",
       "1  ...  0.0   0.0    0.0   0.0   0.0  0.0       0.0   0.0   0.0  0.0  \n",
       "2  ...  0.0   0.0    0.0   0.0   0.0  0.0       0.0   0.0   0.0  0.0  \n",
       "3  ...  0.0   0.0    0.0   0.0   0.0  0.0       0.0   0.0   0.0  0.0  \n",
       "4  ...  0.0   0.0    0.0   0.0   0.0  0.0       0.0   0.0   0.0  0.0  \n",
       "\n",
       "[5 rows x 2000 columns]"
      ]
     },
     "execution_count": 192,
     "metadata": {},
     "output_type": "execute_result"
    }
   ],
   "source": [
    "tfidf_df = pd.DataFrame(tvec.toarray(), columns=tfidf.get_feature_names())\n",
    "tfidf_df.shape;\n",
    "#tfidf_df.head();"
   ]
  },
  {
   "cell_type": "markdown",
   "metadata": {
    "scrolled": false
   },
   "source": [
    "# Step III: Clustring"
   ]
  },
  {
   "cell_type": "markdown",
   "metadata": {},
   "source": [
    "After finishing our text data cleaning, it is time to apply clustering in order to segregate the tweets into different classes based on the tweet content. For that, I have applied KMeans algorithm on the tfidf_df dataframe which contains the list of all features obtained from the text. One point to mension, The NLP analysis resulted in about 31000 features which is almost immpossible to run a clustering model depending on my laptop alone. After multiple attempts. I have decided to set my vectorizer maximum feature to 2000. "
   ]
  },
  {
   "cell_type": "code",
   "execution_count": 193,
   "metadata": {},
   "outputs": [],
   "source": [
    "from sklearn.cluster import KMeans\n",
    "from sklearn.metrics import silhouette_score\n",
    "\n",
    "\n",
    "# compare a broad range of ks to start\n",
    "ks = range(1,15)\n",
    "\n",
    "# create an empty list to track inertias\n",
    "inertias = []\n",
    "\n",
    "# fit the models, save the evaluation metrics from each run\n",
    "for k in ks: \n",
    "    model = KMeans(n_clusters=k,n_jobs=-1, random_state=144)\n",
    "    model.fit(tfidf_df)\n",
    "    labels = model.labels_\n",
    "    inertias.append(model.inertia_)\n",
    "\n"
   ]
  },
  {
   "cell_type": "code",
   "execution_count": 212,
   "metadata": {},
   "outputs": [
    {
     "data": {
      "image/png": "[encoded data removed]",
      "text/plain": [
       "<Figure size 864x576 with 1 Axes>"
      ]
     },
     "metadata": {
      "needs_background": "light"
     },
     "output_type": "display_data"
    }
   ],
   "source": [
    "# plt.subplot(211)\n",
    "plt.plot(ks, inertias, 'o--')\n",
    "plt.ylabel('inertia')\n",
    "plt.title('kmeans parameter search')\n",
    "plt.savefig(\"kmeans parameter search \")"
   ]
  },
  {
   "cell_type": "code",
   "execution_count": 195,
   "metadata": {},
   "outputs": [],
   "source": [
    "#For now, let’s go with our best k value of choice\n",
    "\n",
    "best_k = 7\n",
    "\n",
    "km_model = KMeans(n_clusters=best_k, n_jobs=-1, random_state=144)\n",
    "km_model.fit(tfidf_df)\n",
    "labels = km_model.labels_"
   ]
  },
  {
   "cell_type": "code",
   "execution_count": 213,
   "metadata": {},
   "outputs": [
    {
     "data": {
      "image/png": "[encoded data removed]",
      "text/plain": [
       "<Figure size 864x576 with 1 Axes>"
      ]
     },
     "metadata": {
      "needs_background": "light"
     },
     "output_type": "display_data"
    }
   ],
   "source": [
    "plt.bar(range(len(set(km_model.labels_))), np.bincount(km_model.labels_))\n",
    "\n",
    "plt.ylabel('population')\n",
    "plt.xlabel('cluster label')\n",
    "plt.title('population sizes with {} clusters'.format(best_k));\n",
    "plt.savefig(\"Population Sizes with 7 clusters\")\n",
    "\n",
    "plt.ylim(0,25000);"
   ]
  },
  {
   "cell_type": "code",
   "execution_count": 214,
   "metadata": {},
   "outputs": [],
   "source": [
    "data['clusters'] = labels\n"
   ]
  },
  {
   "cell_type": "code",
   "execution_count": 215,
   "metadata": {},
   "outputs": [],
   "source": [
    "data.head();"
   ]
  },
  {
   "cell_type": "code",
   "execution_count": 218,
   "metadata": {},
   "outputs": [],
   "source": [
    "data = data.drop(['text_punct','text_tokenized','text_nonstop','text_stemmed','text_lemmatized'], axis=1)"
   ]
  },
  {
   "cell_type": "code",
   "execution_count": 217,
   "metadata": {},
   "outputs": [],
   "source": [
    "data.head();"
   ]
  },
  {
   "cell_type": "code",
   "execution_count": 201,
   "metadata": {},
   "outputs": [],
   "source": [
    "import re\n",
    "def  clean_text(data, text_field):\n",
    "    data[text_field] = data[text_field].str.lower()\n",
    "    data[text_field] = data[text_field].apply(lambda elem: re.sub(r\"(@[A-Za-z0-9]+)|([^0-9A-Za-z \\t])|(\\w+:\\/\\/\\S+)|^rt|http.+?\", \"\", elem))  \n",
    "    return data"
   ]
  },
  {
   "cell_type": "code",
   "execution_count": 202,
   "metadata": {},
   "outputs": [],
   "source": [
    "clean_text(data, \"text\");"
   ]
  },
  {
   "cell_type": "code",
   "execution_count": 203,
   "metadata": {},
   "outputs": [],
   "source": [
    "\n",
    "pd.options.display.max_colwidth = 150\n",
    "#print(data[data.clusters == 4]['text'].sample(15))\n",
    "data.head();"
   ]
  },
  {
   "cell_type": "code",
   "execution_count": 260,
   "metadata": {
    "scrolled": true
   },
   "outputs": [
    {
     "name": "stdout",
     "output_type": "stream",
     "text": [
      "   count  percentage\n",
      "4  14266   50.059653\n",
      "6   5121   17.969682\n",
      "3   3378   11.853463\n",
      "2   2151    7.547898\n",
      "1   1773    6.221489\n",
      "0   1076    3.775704\n",
      "5    733    2.572110\n"
     ]
    }
   ],
   "source": [
    "data.clusters.value_counts()\n",
    "\n",
    "labels = pd.concat([data.clusters.value_counts(),\n",
    "                     data.clusters.value_counts(normalize=True).mul(100)], axis=1)\n",
    "labels.columns =['count', 'percentage']\n",
    "\n",
    "print(labels)"
   ]
  },
  {
   "cell_type": "markdown",
   "metadata": {},
   "source": [
    "0 = praising others\n",
    "1 = personal attacks\n",
    "2 =  party nominations \n",
    "3=  media\n",
    "4 = politics & policies\n",
    "5 = praising himself \n",
    "6= others"
   ]
  },
  {
   "cell_type": "markdown",
   "metadata": {},
   "source": [
    "# Classification \n"
   ]
  },
  {
   "cell_type": "markdown",
   "metadata": {},
   "source": [
    "After defining our seven tweet categories, it is time to try to predict the tweet class. I used a basic logistic regression model to try to predict the tweet topic."
   ]
  },
  {
   "cell_type": "code",
   "execution_count": 205,
   "metadata": {},
   "outputs": [],
   "source": [
    "#sns.heatmap(data.corr(),cmap=\"GnBu\", annot=True,linewidth=2);"
   ]
  },
  {
   "cell_type": "code",
   "execution_count": 206,
   "metadata": {},
   "outputs": [],
   "source": [
    "from sklearn.model_selection import train_test_split\n",
    "from sklearn.linear_model import LogisticRegression\n"
   ]
  },
  {
   "cell_type": "code",
   "execution_count": 207,
   "metadata": {},
   "outputs": [],
   "source": [
    "X = data['text']\n",
    "y = data['clusters']\n",
    "\n",
    "X_train,X_test, y_train, y_test= train_test_split(X, y, test_size=0.3, random_state=35)\n",
    "\n",
    "tfidf = TfidfVectorizer(stop_words=\"english\")\n",
    "\n",
    "X_train_counts= tfidf.fit_transform(X_train)\n",
    "X_test_counts = tfidf.transform(X_test)"
   ]
  },
  {
   "cell_type": "code",
   "execution_count": 208,
   "metadata": {},
   "outputs": [],
   "source": [
    "#X_train_counts.todense()"
   ]
  },
  {
   "cell_type": "code",
   "execution_count": 209,
   "metadata": {},
   "outputs": [],
   "source": [
    "# X_test_counts.todense()"
   ]
  },
  {
   "cell_type": "code",
   "execution_count": 210,
   "metadata": {},
   "outputs": [],
   "source": [
    "# cvec.get_feature_names()"
   ]
  },
  {
   "cell_type": "code",
   "execution_count": 211,
   "metadata": {},
   "outputs": [
    {
     "name": "stdout",
     "output_type": "stream",
     "text": [
      "[176]\n",
      "model accuracy is:  0.7726315789473684\n"
     ]
    }
   ],
   "source": [
    "from sklearn.metrics import classification_report, confusion_matrix, accuracy_score\n",
    "\n",
    "log_reg = LogisticRegression(solver='lbfgs', max_iter=1000)\n",
    "log_reg.fit(X_train_counts, y_train)\n",
    "print(log_reg.n_iter_)\n",
    "print('model accuracy is: ',log_reg.score(X_test_counts, y_test))"
   ]
  },
  {
   "cell_type": "markdown",
   "metadata": {},
   "source": [
    "# Conclusion "
   ]
  },
  {
   "cell_type": "markdown",
   "metadata": {},
   "source": [
    "Overall in this project:\n",
    "The overall purpose of this projec was to analyze President Donald Trump Tweets  and try to predict what topics he feels like tweeting about:\n",
    "\n",
    "- Obtained tweets archive from http://www.trumptwitterarchive.com/ and saved in CSV format.\n",
    "\n",
    "- ***Exploratory Data Analysis:***\n",
    "    make sure datatypes are correct and remove unnecessary columns.\n",
    "    visualize relationship between variables\n",
    "    \n",
    "- ***Natural Language Processing:***\n",
    "    extract text features in order to analyze the data\n",
    "    \n",
    "- ***Clustering:***\n",
    "    After finalizing the text analysis, I was able to apply clustering algorithm in order to identify each tweet class. Next, performed  manual cluster exploration in order to identify each cluster topic.\n",
    "    \n",
    "- ***Classification:***\n",
    "    After having the topic classifcation ready, it was time to try to predict the tweet topic using Logistic regression classifier. The classifier was able to predict 77% of the tweets topics which I find satesfying based on the complexity level of the model \n",
    "    \n",
    "Moving forward there are a few approached I feel would be very helpful to increase the model prediction accuracy:\n",
    "\n",
    "- Work with other NLP libraries that might be able to analyze text.In our case, some of trump tweets were by other languages and so having the right tool to analyze the text is important. \n",
    "- Deep learning methodology such as nueral netweor in order to analyze text data more efficiently. Traditional NLP often uses one-hot encoding to represent the word in a fixed vocabulary and uses a BoW to represent documents. while deep learning algorithms attempt to learn multiple levels of representation of increasing complexity/abstraction.\n",
    "- As mentioned earlier, the total features extracted from the text were about 31000. Therefore, applying the code on a cloud service such as AWS and Kaggle TPU might be helpful since they have a very high processing capability.\n",
    "_ There is also the option of trying different models since both KMeans and Logistic Regression are not the most optimum choice with regards to dealing with text data. However,I believe crucial part of this project and others that deal with text is the ability to extract the right features which relates more to the  quality of the features applied in any model. \n"
   ]
  },
  {
   "cell_type": "code",
   "execution_count": null,
   "metadata": {},
   "outputs": [],
   "source": []
  }
 ],
 "metadata": {
  "kernelspec": {
   "display_name": "Python 3",
   "language": "python",
   "name": "python3"
  },
  "language_info": {
   "codemirror_mode": {
    "name": "ipython",
    "version": 3
   },
   "file_extension": ".py",
   "mimetype": "text/x-python",
   "name": "python",
   "nbconvert_exporter": "python",
   "pygments_lexer": "ipython3",
   "version": "3.7.6"
  }
 },
 "nbformat": 4,
 "nbformat_minor": 4
}
