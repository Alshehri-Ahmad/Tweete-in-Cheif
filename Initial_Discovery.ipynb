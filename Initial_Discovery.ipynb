{
 "cells": [
  {
   "cell_type": "markdown",
   "metadata": {},
   "source": [
    "# Initial Data Discovery"
   ]
  },
  {
   "cell_type": "markdown",
   "metadata": {},
   "source": [
    "In this notebook, I will start with simple data discovey of the data in order to evaluate the dataset, implement some data cleaning and fomating before saving the data to a new file"
   ]
  },
  {
   "cell_type": "code",
   "execution_count": 1,
   "metadata": {},
   "outputs": [],
   "source": [
    "import numpy as np\n",
    "import pandas as pd"
   ]
  },
  {
   "cell_type": "code",
   "execution_count": 2,
   "metadata": {},
   "outputs": [
    {
     "data": {
      "text/html": [
       "<div>\n",
       "<style scoped>\n",
       "    .dataframe tbody tr th:only-of-type {\n",
       "        vertical-align: middle;\n",
       "    }\n",
       "\n",
       "    .dataframe tbody tr th {\n",
       "        vertical-align: top;\n",
       "    }\n",
       "\n",
       "    .dataframe thead th {\n",
       "        text-align: right;\n",
       "    }\n",
       "</style>\n",
       "<table border=\"1\" class=\"dataframe\">\n",
       "  <thead>\n",
       "    <tr style=\"text-align: right;\">\n",
       "      <th></th>\n",
       "      <th>source,text,created_at,retweet_count,favorite_count,is_retweet,id_str</th>\n",
       "    </tr>\n",
       "  </thead>\n",
       "  <tbody>\n",
       "    <tr>\n",
       "      <th>0</th>\n",
       "      <td>Twitter for Android,\"@BrettNeveraski: I see yo...</td>\n",
       "    </tr>\n",
       "    <tr>\n",
       "      <th>1</th>\n",
       "      <td>Twitter for Android,To EVERYONE including all ...</td>\n",
       "    </tr>\n",
       "    <tr>\n",
       "      <th>2</th>\n",
       "      <td>Twitter for Android,\"@cpetelis: @realDonaldTru...</td>\n",
       "    </tr>\n",
       "    <tr>\n",
       "      <th>3</th>\n",
       "      <td>Twitter for Android,\"@djspookyshadow: Feeling ...</td>\n",
       "    </tr>\n",
       "    <tr>\n",
       "      <th>4</th>\n",
       "      <td>Twitter for Android,\"@joelmch2os: @realDonaldT...</td>\n",
       "    </tr>\n",
       "  </tbody>\n",
       "</table>\n",
       "</div>"
      ],
      "text/plain": [
       "  source,text,created_at,retweet_count,favorite_count,is_retweet,id_str\n",
       "0  Twitter for Android,\"@BrettNeveraski: I see yo...                   \n",
       "1  Twitter for Android,To EVERYONE including all ...                   \n",
       "2  Twitter for Android,\"@cpetelis: @realDonaldTru...                   \n",
       "3  Twitter for Android,\"@djspookyshadow: Feeling ...                   \n",
       "4  Twitter for Android,\"@joelmch2os: @realDonaldT...                   "
      ]
     },
     "execution_count": 2,
     "metadata": {},
     "output_type": "execute_result"
    }
   ],
   "source": [
    "data = pd.read_csv('trump.csv')\n",
    "data.head()"
   ]
  },
  {
   "cell_type": "code",
   "execution_count": 3,
   "metadata": {},
   "outputs": [],
   "source": [
    "data = data[\"source,text,created_at,retweet_count,favorite_count,is_retweet,id_str\"].str.split(\",\", n = 7, expand = True,)"
   ]
  },
  {
   "cell_type": "code",
   "execution_count": 4,
   "metadata": {},
   "outputs": [
    {
     "data": {
      "text/html": [
       "<div>\n",
       "<style scoped>\n",
       "    .dataframe tbody tr th:only-of-type {\n",
       "        vertical-align: middle;\n",
       "    }\n",
       "\n",
       "    .dataframe tbody tr th {\n",
       "        vertical-align: top;\n",
       "    }\n",
       "\n",
       "    .dataframe thead th {\n",
       "        text-align: right;\n",
       "    }\n",
       "</style>\n",
       "<table border=\"1\" class=\"dataframe\">\n",
       "  <thead>\n",
       "    <tr style=\"text-align: right;\">\n",
       "      <th></th>\n",
       "      <th>source</th>\n",
       "      <th>text</th>\n",
       "      <th>time</th>\n",
       "      <th>retweets</th>\n",
       "      <th>favorite</th>\n",
       "      <th>is_retweet</th>\n",
       "      <th>id</th>\n",
       "    </tr>\n",
       "  </thead>\n",
       "  <tbody>\n",
       "    <tr>\n",
       "      <th>0</th>\n",
       "      <td>Twitter for Android</td>\n",
       "      <td>\"@BrettNeveraski: I see you @realDonaldTrump h...</td>\n",
       "      <td>12-31-2014 21:07:30</td>\n",
       "      <td>53</td>\n",
       "      <td>166</td>\n",
       "      <td>false</td>\n",
       "      <td>550397860240707584</td>\n",
       "    </tr>\n",
       "    <tr>\n",
       "      <th>1</th>\n",
       "      <td>Twitter for Android</td>\n",
       "      <td>To EVERYONE including all haters and losers HA...</td>\n",
       "      <td>12-31-2014 21:15:21</td>\n",
       "      <td>1271</td>\n",
       "      <td>1209</td>\n",
       "      <td>false</td>\n",
       "      <td>550399835682390016</td>\n",
       "    </tr>\n",
       "    <tr>\n",
       "      <th>2</th>\n",
       "      <td>Twitter for Android</td>\n",
       "      <td>\"@cpetelis: @realDonaldTrump If you run for Pr...</td>\n",
       "      <td>12-31-2014 23:56:23</td>\n",
       "      <td>6</td>\n",
       "      <td>18</td>\n",
       "      <td>false</td>\n",
       "      <td>550440363090280448</td>\n",
       "    </tr>\n",
       "    <tr>\n",
       "      <th>3</th>\n",
       "      <td>Twitter for Android</td>\n",
       "      <td>\"@djspookyshadow: Feeling a deep gratitude for...</td>\n",
       "      <td>12-31-2014 23:57:02</td>\n",
       "      <td>9</td>\n",
       "      <td>31</td>\n",
       "      <td>false</td>\n",
       "      <td>550440523094577152</td>\n",
       "    </tr>\n",
       "    <tr>\n",
       "      <th>4</th>\n",
       "      <td>Twitter for Android</td>\n",
       "      <td>\"@joelmch2os: @realDonaldTrump announce your p...</td>\n",
       "      <td>12-31-2014 23:57:25</td>\n",
       "      <td>8</td>\n",
       "      <td>26</td>\n",
       "      <td>false</td>\n",
       "      <td>550440620792492032</td>\n",
       "    </tr>\n",
       "  </tbody>\n",
       "</table>\n",
       "</div>"
      ],
      "text/plain": [
       "                source                                               text  \\\n",
       "0  Twitter for Android  \"@BrettNeveraski: I see you @realDonaldTrump h...   \n",
       "1  Twitter for Android  To EVERYONE including all haters and losers HA...   \n",
       "2  Twitter for Android  \"@cpetelis: @realDonaldTrump If you run for Pr...   \n",
       "3  Twitter for Android  \"@djspookyshadow: Feeling a deep gratitude for...   \n",
       "4  Twitter for Android  \"@joelmch2os: @realDonaldTrump announce your p...   \n",
       "\n",
       "                  time retweets favorite is_retweet                  id  \n",
       "0  12-31-2014 21:07:30       53      166      false  550397860240707584  \n",
       "1  12-31-2014 21:15:21     1271     1209      false  550399835682390016  \n",
       "2  12-31-2014 23:56:23        6       18      false  550440363090280448  \n",
       "3  12-31-2014 23:57:02        9       31      false  550440523094577152  \n",
       "4  12-31-2014 23:57:25        8       26      false  550440620792492032  "
      ]
     },
     "execution_count": 4,
     "metadata": {},
     "output_type": "execute_result"
    }
   ],
   "source": [
    "data.columns = ['source','text','time','retweets','favorite','is_retweet','id']\n",
    "data.head()"
   ]
  },
  {
   "cell_type": "code",
   "execution_count": 5,
   "metadata": {},
   "outputs": [
    {
     "name": "stdout",
     "output_type": "stream",
     "text": [
      "<class 'pandas.core.frame.DataFrame'>\n",
      "RangeIndex: 28564 entries, 0 to 28563\n",
      "Data columns (total 7 columns):\n",
      " #   Column      Non-Null Count  Dtype \n",
      "---  ------      --------------  ----- \n",
      " 0   source      28564 non-null  object\n",
      " 1   text        28564 non-null  object\n",
      " 2   time        28564 non-null  object\n",
      " 3   retweets    28564 non-null  object\n",
      " 4   favorite    28564 non-null  object\n",
      " 5   is_retweet  28564 non-null  object\n",
      " 6   id          28564 non-null  object\n",
      "dtypes: object(7)\n",
      "memory usage: 1.5+ MB\n"
     ]
    }
   ],
   "source": [
    "data.info()"
   ]
  },
  {
   "cell_type": "code",
   "execution_count": 6,
   "metadata": {},
   "outputs": [
    {
     "data": {
      "text/plain": [
       "Twitter for iPhone          18438\n",
       "Twitter for Android          7304\n",
       "Twitter Web Client           2153\n",
       "Twitter Media Studio          159\n",
       "Media Studio                  156\n",
       "Twitter Ads                    97\n",
       "Twitter for BlackBerry         94\n",
       "Instagram                      70\n",
       "Twitter for iPad               60\n",
       "Twitter QandA                  10\n",
       "Periscope                       7\n",
       "Neatly For BlackBerry 10        5\n",
       "Twitter Web App                 4\n",
       "Mobile Web (M5)                 2\n",
       "TweetDeck                       2\n",
       "Facebook                        2\n",
       "Twitter Mirror for iPad         1\n",
       "Name: source, dtype: int64"
      ]
     },
     "execution_count": 6,
     "metadata": {},
     "output_type": "execute_result"
    }
   ],
   "source": [
    "data.source.value_counts()"
   ]
  },
  {
   "cell_type": "code",
   "execution_count": 7,
   "metadata": {},
   "outputs": [
    {
     "data": {
      "text/plain": [
       "07-15-2018 13:33:15    5\n",
       "05-10-2019 11:22:22    4\n",
       "06-09-2019 12:26:37    4\n",
       "05-20-2019 11:20:53    4\n",
       "09-04-2019 21:08:58    4\n",
       "Name: time, dtype: int64"
      ]
     },
     "execution_count": 7,
     "metadata": {},
     "output_type": "execute_result"
    }
   ],
   "source": [
    "data.time.value_counts().head()"
   ]
  },
  {
   "cell_type": "code",
   "execution_count": 8,
   "metadata": {},
   "outputs": [
    {
     "data": {
      "text/plain": [
       "count     28564\n",
       "unique    16718\n",
       "top           9\n",
       "freq        169\n",
       "Name: retweets, dtype: object"
      ]
     },
     "execution_count": 8,
     "metadata": {},
     "output_type": "execute_result"
    }
   ],
   "source": [
    "data.retweets.describe()"
   ]
  },
  {
   "cell_type": "code",
   "execution_count": 9,
   "metadata": {},
   "outputs": [
    {
     "data": {
      "text/plain": [
       "0     166\n",
       "1    1209\n",
       "2      18\n",
       "3      31\n",
       "4      26\n",
       "Name: favorite, dtype: object"
      ]
     },
     "execution_count": 9,
     "metadata": {},
     "output_type": "execute_result"
    }
   ],
   "source": [
    "data.favorite.head()"
   ]
  },
  {
   "cell_type": "code",
   "execution_count": 10,
   "metadata": {},
   "outputs": [
    {
     "data": {
      "text/plain": [
       "1006     false\n",
       "24768     true\n",
       "25012     true\n",
       "2964     false\n",
       "6822     false\n",
       "8326     false\n",
       "19137    false\n",
       "25606     true\n",
       "235      false\n",
       "7143     false\n",
       "Name: is_retweet, dtype: object"
      ]
     },
     "execution_count": 10,
     "metadata": {},
     "output_type": "execute_result"
    }
   ],
   "source": [
    "data.is_retweet.sample(10)"
   ]
  },
  {
   "cell_type": "code",
   "execution_count": 11,
   "metadata": {},
   "outputs": [
    {
     "data": {
      "text/plain": [
       "0    550397860240707584\n",
       "1    550399835682390016\n",
       "2    550440363090280448\n",
       "3    550440523094577152\n",
       "4    550440620792492032\n",
       "Name: id, dtype: object"
      ]
     },
     "execution_count": 11,
     "metadata": {},
     "output_type": "execute_result"
    }
   ],
   "source": [
    "data.id.head()"
   ]
  },
  {
   "cell_type": "code",
   "execution_count": 12,
   "metadata": {},
   "outputs": [
    {
     "data": {
      "text/plain": [
       "false    25083\n",
       "true      3423\n",
       "            58\n",
       "Name: is_retweet, dtype: int64"
      ]
     },
     "execution_count": 12,
     "metadata": {},
     "output_type": "execute_result"
    }
   ],
   "source": [
    "data.is_retweet.unique()\n",
    "data.is_retweet.value_counts('')"
   ]
  },
  {
   "cell_type": "markdown",
   "metadata": {},
   "source": [
    "after a simple discovery of how the data looks like, I decided to remove the following columns:\n",
    "- source\n",
    "\n"
   ]
  },
  {
   "cell_type": "code",
   "execution_count": 13,
   "metadata": {},
   "outputs": [
    {
     "data": {
      "text/plain": [
       "['source', 'text', 'time', 'retweets', 'favorite', 'is_retweet', 'id']"
      ]
     },
     "execution_count": 13,
     "metadata": {},
     "output_type": "execute_result"
    }
   ],
   "source": [
    "list(data.columns)"
   ]
  },
  {
   "cell_type": "code",
   "execution_count": 14,
   "metadata": {},
   "outputs": [],
   "source": [
    "data = data.drop(['source'], axis=1)\n"
   ]
  },
  {
   "cell_type": "code",
   "execution_count": 15,
   "metadata": {},
   "outputs": [
    {
     "name": "stdout",
     "output_type": "stream",
     "text": [
      "<class 'pandas.core.frame.DataFrame'>\n",
      "RangeIndex: 28564 entries, 0 to 28563\n",
      "Data columns (total 6 columns):\n",
      " #   Column      Non-Null Count  Dtype \n",
      "---  ------      --------------  ----- \n",
      " 0   text        28564 non-null  object\n",
      " 1   time        28564 non-null  object\n",
      " 2   retweets    28564 non-null  object\n",
      " 3   favorite    28564 non-null  object\n",
      " 4   is_retweet  28564 non-null  object\n",
      " 5   id          28564 non-null  object\n",
      "dtypes: object(6)\n",
      "memory usage: 1.3+ MB\n"
     ]
    }
   ],
   "source": [
    "data.info()"
   ]
  },
  {
   "cell_type": "markdown",
   "metadata": {},
   "source": [
    "Since all of the data are object data types, I have to change the following columns to integers:\n",
    "- favorite_count \n",
    "- retweet_count \n"
   ]
  },
  {
   "cell_type": "code",
   "execution_count": 16,
   "metadata": {},
   "outputs": [
    {
     "name": "stdout",
     "output_type": "stream",
     "text": [
      "<class 'pandas.core.frame.DataFrame'>\n",
      "RangeIndex: 28564 entries, 0 to 28563\n",
      "Data columns (total 6 columns):\n",
      " #   Column      Non-Null Count  Dtype \n",
      "---  ------      --------------  ----- \n",
      " 0   text        28564 non-null  object\n",
      " 1   time        28564 non-null  object\n",
      " 2   retweets    28564 non-null  int64 \n",
      " 3   favorite    28564 non-null  int64 \n",
      " 4   is_retweet  28564 non-null  object\n",
      " 5   id          28564 non-null  object\n",
      "dtypes: int64(2), object(4)\n",
      "memory usage: 1.3+ MB\n"
     ]
    }
   ],
   "source": [
    "# change values to numeric\n",
    "data['favorite'] = data['favorite'].astype(int)\n",
    "data['retweets'] = data['retweets'].astype(int)\n",
    "data.info()"
   ]
  },
  {
   "cell_type": "markdown",
   "metadata": {},
   "source": [
    "Change the created_at to a time/date format\n",
    "- created_at"
   ]
  },
  {
   "cell_type": "code",
   "execution_count": 17,
   "metadata": {},
   "outputs": [
    {
     "data": {
      "text/html": [
       "<div>\n",
       "<style scoped>\n",
       "    .dataframe tbody tr th:only-of-type {\n",
       "        vertical-align: middle;\n",
       "    }\n",
       "\n",
       "    .dataframe tbody tr th {\n",
       "        vertical-align: top;\n",
       "    }\n",
       "\n",
       "    .dataframe thead th {\n",
       "        text-align: right;\n",
       "    }\n",
       "</style>\n",
       "<table border=\"1\" class=\"dataframe\">\n",
       "  <thead>\n",
       "    <tr style=\"text-align: right;\">\n",
       "      <th></th>\n",
       "      <th>retweets</th>\n",
       "      <th>favorite</th>\n",
       "    </tr>\n",
       "  </thead>\n",
       "  <tbody>\n",
       "    <tr>\n",
       "      <th>count</th>\n",
       "      <td>28564.000000</td>\n",
       "      <td>28564.000000</td>\n",
       "    </tr>\n",
       "    <tr>\n",
       "      <th>mean</th>\n",
       "      <td>11686.523771</td>\n",
       "      <td>38478.624142</td>\n",
       "    </tr>\n",
       "    <tr>\n",
       "      <th>std</th>\n",
       "      <td>12813.099887</td>\n",
       "      <td>52291.454507</td>\n",
       "    </tr>\n",
       "    <tr>\n",
       "      <th>min</th>\n",
       "      <td>0.000000</td>\n",
       "      <td>0.000000</td>\n",
       "    </tr>\n",
       "    <tr>\n",
       "      <th>25%</th>\n",
       "      <td>1530.750000</td>\n",
       "      <td>36.000000</td>\n",
       "    </tr>\n",
       "    <tr>\n",
       "      <th>50%</th>\n",
       "      <td>9138.000000</td>\n",
       "      <td>9519.000000</td>\n",
       "    </tr>\n",
       "    <tr>\n",
       "      <th>75%</th>\n",
       "      <td>17798.000000</td>\n",
       "      <td>70529.750000</td>\n",
       "    </tr>\n",
       "    <tr>\n",
       "      <th>max</th>\n",
       "      <td>369530.000000</td>\n",
       "      <td>879647.000000</td>\n",
       "    </tr>\n",
       "  </tbody>\n",
       "</table>\n",
       "</div>"
      ],
      "text/plain": [
       "            retweets       favorite\n",
       "count   28564.000000   28564.000000\n",
       "mean    11686.523771   38478.624142\n",
       "std     12813.099887   52291.454507\n",
       "min         0.000000       0.000000\n",
       "25%      1530.750000      36.000000\n",
       "50%      9138.000000    9519.000000\n",
       "75%     17798.000000   70529.750000\n",
       "max    369530.000000  879647.000000"
      ]
     },
     "execution_count": 17,
     "metadata": {},
     "output_type": "execute_result"
    }
   ],
   "source": [
    "data.describe()"
   ]
  },
  {
   "cell_type": "code",
   "execution_count": 18,
   "metadata": {},
   "outputs": [
    {
     "name": "stdout",
     "output_type": "stream",
     "text": [
      "<class 'pandas.core.frame.DataFrame'>\n",
      "RangeIndex: 28564 entries, 0 to 28563\n",
      "Data columns (total 6 columns):\n",
      " #   Column      Non-Null Count  Dtype         \n",
      "---  ------      --------------  -----         \n",
      " 0   text        28564 non-null  object        \n",
      " 1   time        28564 non-null  datetime64[ns]\n",
      " 2   retweets    28564 non-null  int64         \n",
      " 3   favorite    28564 non-null  int64         \n",
      " 4   is_retweet  28564 non-null  object        \n",
      " 5   id          28564 non-null  object        \n",
      "dtypes: datetime64[ns](1), int64(2), object(3)\n",
      "memory usage: 1.3+ MB\n"
     ]
    }
   ],
   "source": [
    "# change to datetime \n",
    "data[\"time\"] = pd.to_datetime(data[\"time\"])\n",
    "data.info()"
   ]
  },
  {
   "cell_type": "code",
   "execution_count": 19,
   "metadata": {},
   "outputs": [
    {
     "data": {
      "text/html": [
       "<div>\n",
       "<style scoped>\n",
       "    .dataframe tbody tr th:only-of-type {\n",
       "        vertical-align: middle;\n",
       "    }\n",
       "\n",
       "    .dataframe tbody tr th {\n",
       "        vertical-align: top;\n",
       "    }\n",
       "\n",
       "    .dataframe thead th {\n",
       "        text-align: right;\n",
       "    }\n",
       "</style>\n",
       "<table border=\"1\" class=\"dataframe\">\n",
       "  <thead>\n",
       "    <tr style=\"text-align: right;\">\n",
       "      <th></th>\n",
       "      <th>text</th>\n",
       "      <th>retweets</th>\n",
       "      <th>favorite</th>\n",
       "      <th>is_retweet</th>\n",
       "      <th>id</th>\n",
       "    </tr>\n",
       "    <tr>\n",
       "      <th>time</th>\n",
       "      <th></th>\n",
       "      <th></th>\n",
       "      <th></th>\n",
       "      <th></th>\n",
       "      <th></th>\n",
       "    </tr>\n",
       "  </thead>\n",
       "  <tbody>\n",
       "    <tr>\n",
       "      <th>2014-12-31 21:07:30</th>\n",
       "      <td>\"@BrettNeveraski: I see you @realDonaldTrump h...</td>\n",
       "      <td>53</td>\n",
       "      <td>166</td>\n",
       "      <td>false</td>\n",
       "      <td>550397860240707584</td>\n",
       "    </tr>\n",
       "    <tr>\n",
       "      <th>2014-12-31 21:15:21</th>\n",
       "      <td>To EVERYONE including all haters and losers HA...</td>\n",
       "      <td>1271</td>\n",
       "      <td>1209</td>\n",
       "      <td>false</td>\n",
       "      <td>550399835682390016</td>\n",
       "    </tr>\n",
       "    <tr>\n",
       "      <th>2014-12-31 23:56:23</th>\n",
       "      <td>\"@cpetelis: @realDonaldTrump If you run for Pr...</td>\n",
       "      <td>6</td>\n",
       "      <td>18</td>\n",
       "      <td>false</td>\n",
       "      <td>550440363090280448</td>\n",
       "    </tr>\n",
       "    <tr>\n",
       "      <th>2014-12-31 23:57:02</th>\n",
       "      <td>\"@djspookyshadow: Feeling a deep gratitude for...</td>\n",
       "      <td>9</td>\n",
       "      <td>31</td>\n",
       "      <td>false</td>\n",
       "      <td>550440523094577152</td>\n",
       "    </tr>\n",
       "    <tr>\n",
       "      <th>2014-12-31 23:57:25</th>\n",
       "      <td>\"@joelmch2os: @realDonaldTrump announce your p...</td>\n",
       "      <td>8</td>\n",
       "      <td>26</td>\n",
       "      <td>false</td>\n",
       "      <td>550440620792492032</td>\n",
       "    </tr>\n",
       "  </tbody>\n",
       "</table>\n",
       "</div>"
      ],
      "text/plain": [
       "                                                                  text  \\\n",
       "time                                                                     \n",
       "2014-12-31 21:07:30  \"@BrettNeveraski: I see you @realDonaldTrump h...   \n",
       "2014-12-31 21:15:21  To EVERYONE including all haters and losers HA...   \n",
       "2014-12-31 23:56:23  \"@cpetelis: @realDonaldTrump If you run for Pr...   \n",
       "2014-12-31 23:57:02  \"@djspookyshadow: Feeling a deep gratitude for...   \n",
       "2014-12-31 23:57:25  \"@joelmch2os: @realDonaldTrump announce your p...   \n",
       "\n",
       "                     retweets  favorite is_retweet                  id  \n",
       "time                                                                    \n",
       "2014-12-31 21:07:30        53       166      false  550397860240707584  \n",
       "2014-12-31 21:15:21      1271      1209      false  550399835682390016  \n",
       "2014-12-31 23:56:23         6        18      false  550440363090280448  \n",
       "2014-12-31 23:57:02         9        31      false  550440523094577152  \n",
       "2014-12-31 23:57:25         8        26      false  550440620792492032  "
      ]
     },
     "execution_count": 19,
     "metadata": {},
     "output_type": "execute_result"
    }
   ],
   "source": [
    "data.set_index('time', inplace=True)\n",
    "data.head()"
   ]
  },
  {
   "cell_type": "markdown",
   "metadata": {},
   "source": [
    "The dataset is almost ready. However, one last thing to check is the values in the is_retweet column"
   ]
  },
  {
   "cell_type": "code",
   "execution_count": 20,
   "metadata": {},
   "outputs": [
    {
     "data": {
      "text/plain": [
       "array(['false', 'true', ''], dtype=object)"
      ]
     },
     "execution_count": 20,
     "metadata": {},
     "output_type": "execute_result"
    }
   ],
   "source": [
    "data.is_retweet.unique()"
   ]
  },
  {
   "cell_type": "code",
   "execution_count": 21,
   "metadata": {},
   "outputs": [
    {
     "data": {
      "text/plain": [
       "false    25083\n",
       "true      3423\n",
       "            58\n",
       "Name: is_retweet, dtype: int64"
      ]
     },
     "execution_count": 21,
     "metadata": {},
     "output_type": "execute_result"
    }
   ],
   "source": [
    "data.is_retweet.value_counts('')"
   ]
  },
  {
   "cell_type": "markdown",
   "metadata": {},
   "source": [
    "There are a total of 58 ows that are not specified. which is about 0.2% of the dataset. I decided to emove it in order to chabge the column type to boolein"
   ]
  },
  {
   "cell_type": "code",
   "execution_count": 22,
   "metadata": {},
   "outputs": [
    {
     "data": {
      "text/plain": [
       "time\n",
       "2014-12-31 21:07:30    false\n",
       "2014-12-31 21:15:21    false\n",
       "2014-12-31 23:56:23    false\n",
       "2014-12-31 23:57:02    false\n",
       "2014-12-31 23:57:25    false\n",
       "Name: is_retweet, dtype: object"
      ]
     },
     "execution_count": 22,
     "metadata": {},
     "output_type": "execute_result"
    }
   ],
   "source": [
    "data = data[data.is_retweet != '']\n",
    "data.is_retweet.head()\n"
   ]
  },
  {
   "cell_type": "code",
   "execution_count": 28,
   "metadata": {},
   "outputs": [],
   "source": [
    "To_Bool = {'true': True, 'false': False}\n",
    "\n",
    "data['is_retweet'] = data['is_retweet'].map(To_Bool)"
   ]
  },
  {
   "cell_type": "code",
   "execution_count": 29,
   "metadata": {},
   "outputs": [
    {
     "data": {
      "text/plain": [
       "array([False,  True])"
      ]
     },
     "execution_count": 29,
     "metadata": {},
     "output_type": "execute_result"
    }
   ],
   "source": [
    "data.is_retweet.unique()"
   ]
  },
  {
   "cell_type": "code",
   "execution_count": 30,
   "metadata": {},
   "outputs": [
    {
     "data": {
      "text/plain": [
       "False    25083\n",
       "True      3423\n",
       "Name: is_retweet, dtype: int64"
      ]
     },
     "execution_count": 30,
     "metadata": {},
     "output_type": "execute_result"
    }
   ],
   "source": [
    "data.is_retweet.value_counts()"
   ]
  },
  {
   "cell_type": "code",
   "execution_count": 31,
   "metadata": {},
   "outputs": [
    {
     "name": "stdout",
     "output_type": "stream",
     "text": [
      "<class 'pandas.core.frame.DataFrame'>\n",
      "DatetimeIndex: 28506 entries, 2014-12-31 21:07:30 to 2020-03-30 20:50:35\n",
      "Data columns (total 5 columns):\n",
      " #   Column      Non-Null Count  Dtype \n",
      "---  ------      --------------  ----- \n",
      " 0   text        28506 non-null  object\n",
      " 1   retweets    28506 non-null  int64 \n",
      " 2   favorite    28506 non-null  int64 \n",
      " 3   is_retweet  28506 non-null  bool  \n",
      " 4   id          28506 non-null  object\n",
      "dtypes: bool(1), int64(2), object(2)\n",
      "memory usage: 1.1+ MB\n"
     ]
    }
   ],
   "source": [
    "data.info()"
   ]
  },
  {
   "cell_type": "code",
   "execution_count": 32,
   "metadata": {},
   "outputs": [],
   "source": [
    "# save the new data to another CSV file befoe moving to the next stage\n",
    "data.to_csv(\"TheRealDonald.csv\")"
   ]
  },
  {
   "cell_type": "code",
   "execution_count": null,
   "metadata": {},
   "outputs": [],
   "source": []
  }
 ],
 "metadata": {
  "kernelspec": {
   "display_name": "Python 3",
   "language": "python",
   "name": "python3"
  },
  "language_info": {
   "codemirror_mode": {
    "name": "ipython",
    "version": 3
   },
   "file_extension": ".py",
   "mimetype": "text/x-python",
   "name": "python",
   "nbconvert_exporter": "python",
   "pygments_lexer": "ipython3",
   "version": "3.7.6"
  }
 },
 "nbformat": 4,
 "nbformat_minor": 4
}
